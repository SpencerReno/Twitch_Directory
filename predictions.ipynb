{
 "cells": [
  {
   "cell_type": "code",
   "execution_count": 2,
   "metadata": {},
   "outputs": [
    {
     "name": "stderr",
     "output_type": "stream",
     "text": [
      "<frozen importlib._bootstrap>:219: RuntimeWarning: numpy.ufunc size changed, may indicate binary incompatibility. Expected 192 from C header, got 216 from PyObject\n",
      "<frozen importlib._bootstrap>:219: RuntimeWarning: numpy.ufunc size changed, may indicate binary incompatibility. Expected 192 from C header, got 216 from PyObject\n",
      "<frozen importlib._bootstrap>:219: RuntimeWarning: numpy.ufunc size changed, may indicate binary incompatibility. Expected 192 from C header, got 216 from PyObject\n"
     ]
    }
   ],
   "source": [
    "import pandas as pd \n",
    "import sqlite3\n",
    "import seaborn as sns\n",
    "import datetime\n",
    "import matplotlib.pyplot as plt \n",
    "import numpy as np \n",
    "from sklearn.model_selection import train_test_split,GridSearchCV\n",
    "from sklearn.preprocessing import StandardScaler, OneHotEncoder\n",
    "from sklearn.ensemble import RandomForestRegressor\n",
    "from sklearn.tree import DecisionTreeRegressor\n",
    "from sklearn.neighbors import KNeighborsRegressor\n",
    "from tensorflow.keras.models import Sequential\n",
    "from tensorflow.keras.layers import Dense"
   ]
  },
  {
   "cell_type": "code",
   "execution_count": 4,
   "metadata": {},
   "outputs": [
    {
     "data": {
      "text/html": [
       "<div>\n",
       "<style scoped>\n",
       "    .dataframe tbody tr th:only-of-type {\n",
       "        vertical-align: middle;\n",
       "    }\n",
       "\n",
       "    .dataframe tbody tr th {\n",
       "        vertical-align: top;\n",
       "    }\n",
       "\n",
       "    .dataframe thead th {\n",
       "        text-align: right;\n",
       "    }\n",
       "</style>\n",
       "<table border=\"1\" class=\"dataframe\">\n",
       "  <thead>\n",
       "    <tr style=\"text-align: right;\">\n",
       "      <th></th>\n",
       "      <th>index</th>\n",
       "      <th>Date</th>\n",
       "      <th>Time</th>\n",
       "      <th>Directory Name</th>\n",
       "      <th>Viewer Count</th>\n",
       "    </tr>\n",
       "  </thead>\n",
       "  <tbody>\n",
       "    <tr>\n",
       "      <th>0</th>\n",
       "      <td>0</td>\n",
       "      <td>2022-01-31</td>\n",
       "      <td>10:45:52</td>\n",
       "      <td>Just Chatting</td>\n",
       "      <td>390431</td>\n",
       "    </tr>\n",
       "    <tr>\n",
       "      <th>1</th>\n",
       "      <td>1</td>\n",
       "      <td>2022-01-31</td>\n",
       "      <td>10:45:52</td>\n",
       "      <td>Grand Theft Auto V</td>\n",
       "      <td>239160</td>\n",
       "    </tr>\n",
       "    <tr>\n",
       "      <th>2</th>\n",
       "      <td>2</td>\n",
       "      <td>2022-01-31</td>\n",
       "      <td>10:45:52</td>\n",
       "      <td>League of Legends</td>\n",
       "      <td>219827</td>\n",
       "    </tr>\n",
       "    <tr>\n",
       "      <th>3</th>\n",
       "      <td>3</td>\n",
       "      <td>2022-01-31</td>\n",
       "      <td>10:45:52</td>\n",
       "      <td>VALORANT</td>\n",
       "      <td>137060</td>\n",
       "    </tr>\n",
       "    <tr>\n",
       "      <th>4</th>\n",
       "      <td>4</td>\n",
       "      <td>2022-01-31</td>\n",
       "      <td>10:45:52</td>\n",
       "      <td>Fortnite</td>\n",
       "      <td>115131</td>\n",
       "    </tr>\n",
       "  </tbody>\n",
       "</table>\n",
       "</div>"
      ],
      "text/plain": [
       "   index        Date      Time      Directory Name  Viewer Count\n",
       "0      0  2022-01-31  10:45:52       Just Chatting        390431\n",
       "1      1  2022-01-31  10:45:52  Grand Theft Auto V        239160\n",
       "2      2  2022-01-31  10:45:52   League of Legends        219827\n",
       "3      3  2022-01-31  10:45:52            VALORANT        137060\n",
       "4      4  2022-01-31  10:45:52            Fortnite        115131"
      ]
     },
     "execution_count": 4,
     "metadata": {},
     "output_type": "execute_result"
    }
   ],
   "source": [
    "conn = sqlite3.connect('twitch.db')\n",
    "sql = \"\"\"\n",
    "SELECT *\n",
    "FROM Twitch_Directory\n",
    "\"\"\"\n",
    "# Read the sql query into pandas to view the results\n",
    "twitch_data = pd.read_sql_query(sql, conn)\n",
    "twitch_data.head()"
   ]
  },
  {
   "cell_type": "code",
   "execution_count": 5,
   "metadata": {},
   "outputs": [
    {
     "data": {
      "text/plain": [
       "index              int64\n",
       "Date              object\n",
       "Time              object\n",
       "Directory Name    object\n",
       "Viewer Count       int64\n",
       "dtype: object"
      ]
     },
     "execution_count": 5,
     "metadata": {},
     "output_type": "execute_result"
    }
   ],
   "source": [
    "twitch_data.dtypes"
   ]
  },
  {
   "cell_type": "code",
   "execution_count": 6,
   "metadata": {},
   "outputs": [
    {
     "data": {
      "text/plain": [
       "array(['Just Chatting', 'Grand Theft Auto V', 'League of Legends',\n",
       "       'VALORANT', 'Fortnite', 'Pokémon Legends: Arceus',\n",
       "       'Counter-Strike: Global Offensive', 'FIFA 22', 'Sports',\n",
       "       'Apex Legends', 'Dota 2', 'Escape from Tarkov',\n",
       "       'Dying Light 2: Stay Human', 'Cities: Skylines', 'Rust',\n",
       "       'Path of Exile', 'Sifu', 'LOST ARK', 'Slots',\n",
       "       \"Tom Clancy's Rainbow Six Siege\", 'Minecraft',\n",
       "       'Call of Duty: Warzone', 'Dead by Daylight', 'Lost Ark',\n",
       "       'Horizon Forbidden West', 'Mario Kart 8 Deluxe', 'Elden Ring',\n",
       "       'Destiny 2', 'Politics', 'Rocket League', 'World of Warcraft',\n",
       "       'Brawl Stars'], dtype=object)"
      ]
     },
     "execution_count": 6,
     "metadata": {},
     "output_type": "execute_result"
    }
   ],
   "source": [
    "twitch_data['Directory Name'].unique()"
   ]
  },
  {
   "cell_type": "code",
   "execution_count": 7,
   "metadata": {},
   "outputs": [],
   "source": [
    "twitch_data['Directory Name'].replace({'LOST ARK' : 'Lost Ark'},  inplace=True)"
   ]
  },
  {
   "cell_type": "code",
   "execution_count": 8,
   "metadata": {},
   "outputs": [
    {
     "data": {
      "text/plain": [
       "array(['Just Chatting', 'Grand Theft Auto V', 'League of Legends',\n",
       "       'VALORANT', 'Fortnite', 'Pokémon Legends: Arceus',\n",
       "       'Counter-Strike: Global Offensive', 'FIFA 22', 'Sports',\n",
       "       'Apex Legends', 'Dota 2', 'Escape from Tarkov',\n",
       "       'Dying Light 2: Stay Human', 'Cities: Skylines', 'Rust',\n",
       "       'Path of Exile', 'Sifu', 'Lost Ark', 'Slots',\n",
       "       \"Tom Clancy's Rainbow Six Siege\", 'Minecraft',\n",
       "       'Call of Duty: Warzone', 'Dead by Daylight',\n",
       "       'Horizon Forbidden West', 'Mario Kart 8 Deluxe', 'Elden Ring',\n",
       "       'Destiny 2', 'Politics', 'Rocket League', 'World of Warcraft',\n",
       "       'Brawl Stars'], dtype=object)"
      ]
     },
     "execution_count": 8,
     "metadata": {},
     "output_type": "execute_result"
    }
   ],
   "source": [
    "twitch_data['Directory Name'].unique()"
   ]
  },
  {
   "cell_type": "code",
   "execution_count": 9,
   "metadata": {},
   "outputs": [],
   "source": [
    "twitch_data.drop(columns=['index'], inplace=True)"
   ]
  },
  {
   "cell_type": "code",
   "execution_count": 10,
   "metadata": {},
   "outputs": [],
   "source": [
    "twitch_data['Date'] = pd.to_datetime(twitch_data['Date'])"
   ]
  },
  {
   "cell_type": "code",
   "execution_count": 11,
   "metadata": {},
   "outputs": [],
   "source": [
    "twitch_data['month'] = twitch_data['Date'].dt.strftime('%m')\n",
    "twitch_data['month'] = twitch_data['month'].astype(int)\n"
   ]
  },
  {
   "cell_type": "code",
   "execution_count": 43,
   "metadata": {},
   "outputs": [],
   "source": [
    "twitch_data['Day'] = twitch_data['Date'].dt.strftime('%w')"
   ]
  },
  {
   "cell_type": "code",
   "execution_count": 44,
   "metadata": {},
   "outputs": [],
   "source": [
    "num_days= {\n",
    "    '1' : 'Mon', \n",
    "    '2' : 'Tue', \n",
    "    '3' : 'Wed', \n",
    "    '4' : 'Thur', \n",
    "    '5' : 'Fri', \n",
    "    '6' : 'Sat',\n",
    "    '0' : 'Sun'\n",
    "}\n",
    "twitch_data['Day'].replace(num_days, inplace=True)"
   ]
  },
  {
   "cell_type": "code",
   "execution_count": 48,
   "metadata": {},
   "outputs": [
    {
     "data": {
      "text/html": [
       "<div>\n",
       "<style scoped>\n",
       "    .dataframe tbody tr th:only-of-type {\n",
       "        vertical-align: middle;\n",
       "    }\n",
       "\n",
       "    .dataframe tbody tr th {\n",
       "        vertical-align: top;\n",
       "    }\n",
       "\n",
       "    .dataframe thead th {\n",
       "        text-align: right;\n",
       "    }\n",
       "</style>\n",
       "<table border=\"1\" class=\"dataframe\">\n",
       "  <thead>\n",
       "    <tr style=\"text-align: right;\">\n",
       "      <th></th>\n",
       "      <th>Date</th>\n",
       "      <th>Time</th>\n",
       "      <th>Directory Name</th>\n",
       "      <th>Viewer Count</th>\n",
       "      <th>month</th>\n",
       "      <th>Day</th>\n",
       "    </tr>\n",
       "  </thead>\n",
       "  <tbody>\n",
       "    <tr>\n",
       "      <th>0</th>\n",
       "      <td>2022-01-31</td>\n",
       "      <td>10:45:52</td>\n",
       "      <td>Just Chatting</td>\n",
       "      <td>390431</td>\n",
       "      <td>1</td>\n",
       "      <td>Mon</td>\n",
       "    </tr>\n",
       "    <tr>\n",
       "      <th>1</th>\n",
       "      <td>2022-01-31</td>\n",
       "      <td>10:45:52</td>\n",
       "      <td>Grand Theft Auto V</td>\n",
       "      <td>239160</td>\n",
       "      <td>1</td>\n",
       "      <td>Mon</td>\n",
       "    </tr>\n",
       "    <tr>\n",
       "      <th>2</th>\n",
       "      <td>2022-01-31</td>\n",
       "      <td>10:45:52</td>\n",
       "      <td>League of Legends</td>\n",
       "      <td>219827</td>\n",
       "      <td>1</td>\n",
       "      <td>Mon</td>\n",
       "    </tr>\n",
       "    <tr>\n",
       "      <th>3</th>\n",
       "      <td>2022-01-31</td>\n",
       "      <td>10:45:52</td>\n",
       "      <td>VALORANT</td>\n",
       "      <td>137060</td>\n",
       "      <td>1</td>\n",
       "      <td>Mon</td>\n",
       "    </tr>\n",
       "    <tr>\n",
       "      <th>4</th>\n",
       "      <td>2022-01-31</td>\n",
       "      <td>10:45:52</td>\n",
       "      <td>Fortnite</td>\n",
       "      <td>115131</td>\n",
       "      <td>1</td>\n",
       "      <td>Mon</td>\n",
       "    </tr>\n",
       "    <tr>\n",
       "      <th>...</th>\n",
       "      <td>...</td>\n",
       "      <td>...</td>\n",
       "      <td>...</td>\n",
       "      <td>...</td>\n",
       "      <td>...</td>\n",
       "      <td>...</td>\n",
       "    </tr>\n",
       "    <tr>\n",
       "      <th>355</th>\n",
       "      <td>2022-03-07</td>\n",
       "      <td>10:46:09</td>\n",
       "      <td>Apex Legends</td>\n",
       "      <td>106036</td>\n",
       "      <td>3</td>\n",
       "      <td>Mon</td>\n",
       "    </tr>\n",
       "    <tr>\n",
       "      <th>356</th>\n",
       "      <td>2022-03-07</td>\n",
       "      <td>10:46:09</td>\n",
       "      <td>Fortnite</td>\n",
       "      <td>76297</td>\n",
       "      <td>3</td>\n",
       "      <td>Mon</td>\n",
       "    </tr>\n",
       "    <tr>\n",
       "      <th>357</th>\n",
       "      <td>2022-03-07</td>\n",
       "      <td>10:46:09</td>\n",
       "      <td>FIFA 22</td>\n",
       "      <td>57183</td>\n",
       "      <td>3</td>\n",
       "      <td>Mon</td>\n",
       "    </tr>\n",
       "    <tr>\n",
       "      <th>358</th>\n",
       "      <td>2022-03-07</td>\n",
       "      <td>10:46:09</td>\n",
       "      <td>Counter-Strike: Global Offensive</td>\n",
       "      <td>53727</td>\n",
       "      <td>3</td>\n",
       "      <td>Mon</td>\n",
       "    </tr>\n",
       "    <tr>\n",
       "      <th>359</th>\n",
       "      <td>2022-03-07</td>\n",
       "      <td>10:46:09</td>\n",
       "      <td>Lost Ark</td>\n",
       "      <td>54099</td>\n",
       "      <td>3</td>\n",
       "      <td>Mon</td>\n",
       "    </tr>\n",
       "  </tbody>\n",
       "</table>\n",
       "<p>360 rows × 6 columns</p>\n",
       "</div>"
      ],
      "text/plain": [
       "          Date      Time                    Directory Name  Viewer Count  \\\n",
       "0   2022-01-31  10:45:52                     Just Chatting        390431   \n",
       "1   2022-01-31  10:45:52                Grand Theft Auto V        239160   \n",
       "2   2022-01-31  10:45:52                 League of Legends        219827   \n",
       "3   2022-01-31  10:45:52                          VALORANT        137060   \n",
       "4   2022-01-31  10:45:52                          Fortnite        115131   \n",
       "..         ...       ...                               ...           ...   \n",
       "355 2022-03-07  10:46:09                      Apex Legends        106036   \n",
       "356 2022-03-07  10:46:09                          Fortnite         76297   \n",
       "357 2022-03-07  10:46:09                           FIFA 22         57183   \n",
       "358 2022-03-07  10:46:09  Counter-Strike: Global Offensive         53727   \n",
       "359 2022-03-07  10:46:09                          Lost Ark         54099   \n",
       "\n",
       "     month  Day  \n",
       "0        1  Mon  \n",
       "1        1  Mon  \n",
       "2        1  Mon  \n",
       "3        1  Mon  \n",
       "4        1  Mon  \n",
       "..     ...  ...  \n",
       "355      3  Mon  \n",
       "356      3  Mon  \n",
       "357      3  Mon  \n",
       "358      3  Mon  \n",
       "359      3  Mon  \n",
       "\n",
       "[360 rows x 6 columns]"
      ]
     },
     "execution_count": 48,
     "metadata": {},
     "output_type": "execute_result"
    }
   ],
   "source": [
    "twitch_data"
   ]
  },
  {
   "cell_type": "code",
   "execution_count": 70,
   "metadata": {},
   "outputs": [],
   "source": [
    "X = twitch_data.drop(columns=['Date', 'Time', 'Viewer Count'])\n",
    "y = twitch_data['Viewer Count']"
   ]
  },
  {
   "cell_type": "code",
   "execution_count": 71,
   "metadata": {},
   "outputs": [],
   "source": [
    "X_train, X_test, y_train, y_test= train_test_split(X, y, random_state=42)"
   ]
  },
  {
   "cell_type": "code",
   "execution_count": 72,
   "metadata": {},
   "outputs": [
    {
     "data": {
      "text/html": [
       "<div>\n",
       "<style scoped>\n",
       "    .dataframe tbody tr th:only-of-type {\n",
       "        vertical-align: middle;\n",
       "    }\n",
       "\n",
       "    .dataframe tbody tr th {\n",
       "        vertical-align: top;\n",
       "    }\n",
       "\n",
       "    .dataframe thead th {\n",
       "        text-align: right;\n",
       "    }\n",
       "</style>\n",
       "<table border=\"1\" class=\"dataframe\">\n",
       "  <thead>\n",
       "    <tr style=\"text-align: right;\">\n",
       "      <th></th>\n",
       "      <th>Directory Name</th>\n",
       "      <th>month</th>\n",
       "      <th>Day</th>\n",
       "    </tr>\n",
       "  </thead>\n",
       "  <tbody>\n",
       "    <tr>\n",
       "      <th>60</th>\n",
       "      <td>Just Chatting</td>\n",
       "      <td>2</td>\n",
       "      <td>Sun</td>\n",
       "    </tr>\n",
       "    <tr>\n",
       "      <th>114</th>\n",
       "      <td>Grand Theft Auto V</td>\n",
       "      <td>2</td>\n",
       "      <td>Fri</td>\n",
       "    </tr>\n",
       "    <tr>\n",
       "      <th>258</th>\n",
       "      <td>Fortnite</td>\n",
       "      <td>2</td>\n",
       "      <td>Fri</td>\n",
       "    </tr>\n",
       "    <tr>\n",
       "      <th>110</th>\n",
       "      <td>Lost Ark</td>\n",
       "      <td>2</td>\n",
       "      <td>Fri</td>\n",
       "    </tr>\n",
       "    <tr>\n",
       "      <th>218</th>\n",
       "      <td>Dota 2</td>\n",
       "      <td>2</td>\n",
       "      <td>Mon</td>\n",
       "    </tr>\n",
       "    <tr>\n",
       "      <th>...</th>\n",
       "      <td>...</td>\n",
       "      <td>...</td>\n",
       "      <td>...</td>\n",
       "    </tr>\n",
       "    <tr>\n",
       "      <th>71</th>\n",
       "      <td>League of Legends</td>\n",
       "      <td>2</td>\n",
       "      <td>Mon</td>\n",
       "    </tr>\n",
       "    <tr>\n",
       "      <th>106</th>\n",
       "      <td>Tom Clancy's Rainbow Six Siege</td>\n",
       "      <td>2</td>\n",
       "      <td>Thur</td>\n",
       "    </tr>\n",
       "    <tr>\n",
       "      <th>270</th>\n",
       "      <td>Elden Ring</td>\n",
       "      <td>2</td>\n",
       "      <td>Sun</td>\n",
       "    </tr>\n",
       "    <tr>\n",
       "      <th>348</th>\n",
       "      <td>Apex Legends</td>\n",
       "      <td>3</td>\n",
       "      <td>Sun</td>\n",
       "    </tr>\n",
       "    <tr>\n",
       "      <th>102</th>\n",
       "      <td>League of Legends</td>\n",
       "      <td>2</td>\n",
       "      <td>Thur</td>\n",
       "    </tr>\n",
       "  </tbody>\n",
       "</table>\n",
       "<p>270 rows × 3 columns</p>\n",
       "</div>"
      ],
      "text/plain": [
       "                     Directory Name  month   Day\n",
       "60                    Just Chatting      2   Sun\n",
       "114              Grand Theft Auto V      2   Fri\n",
       "258                        Fortnite      2   Fri\n",
       "110                        Lost Ark      2   Fri\n",
       "218                          Dota 2      2   Mon\n",
       "..                              ...    ...   ...\n",
       "71                League of Legends      2   Mon\n",
       "106  Tom Clancy's Rainbow Six Siege      2  Thur\n",
       "270                      Elden Ring      2   Sun\n",
       "348                    Apex Legends      3   Sun\n",
       "102               League of Legends      2  Thur\n",
       "\n",
       "[270 rows x 3 columns]"
      ]
     },
     "execution_count": 72,
     "metadata": {},
     "output_type": "execute_result"
    }
   ],
   "source": [
    "X_train"
   ]
  },
  {
   "cell_type": "code",
   "execution_count": 73,
   "metadata": {},
   "outputs": [],
   "source": [
    "Ohe = OneHotEncoder(handle_unknown='ignore', sparse=False)\n",
    "\n",
    "ohe_train = X_train[['Directory Name', 'month']]\n",
    "ohe_test = X_test[['Directory Name', 'month']]\n",
    "\n",
    "X_train = Ohe.fit_transform(ohe_train)\n",
    "X_test = Ohe.transform(ohe_test)"
   ]
  },
  {
   "cell_type": "code",
   "execution_count": 74,
   "metadata": {},
   "outputs": [
    {
     "data": {
      "text/plain": [
       "array([[0., 0., 0., ..., 0., 1., 0.],\n",
       "       [0., 0., 0., ..., 0., 1., 0.],\n",
       "       [0., 0., 0., ..., 0., 1., 0.],\n",
       "       ...,\n",
       "       [0., 0., 0., ..., 0., 1., 0.],\n",
       "       [1., 0., 0., ..., 0., 0., 1.],\n",
       "       [0., 0., 0., ..., 0., 1., 0.]])"
      ]
     },
     "execution_count": 74,
     "metadata": {},
     "output_type": "execute_result"
    }
   ],
   "source": [
    "X_train"
   ]
  },
  {
   "cell_type": "code",
   "execution_count": 75,
   "metadata": {},
   "outputs": [
    {
     "name": "stdout",
     "output_type": "stream",
     "text": [
      "Train: 0.7111598069381483\n",
      "Test: 0.5662584827145769\n"
     ]
    }
   ],
   "source": [
    "dt = DecisionTreeRegressor()\n",
    "\n",
    "dt.fit(X_train, y_train)\n",
    "\n",
    "print(f'Train: {dt.score(X_train, y_train)}')\n",
    "print(f'Test: {dt.score(X_test, y_test)}')"
   ]
  },
  {
   "cell_type": "code",
   "execution_count": 76,
   "metadata": {},
   "outputs": [
    {
     "name": "stdout",
     "output_type": "stream",
     "text": [
      "Train: 0.5893260324532933\n",
      "Test: 0.37981336456246995\n"
     ]
    }
   ],
   "source": [
    "knn = KNeighborsRegressor()\n",
    "\n",
    "knn.fit(X_train, y_train)\n",
    "\n",
    "print(f'Train: {knn.score(X_train, y_train)}')\n",
    "print(f'Test: {knn.score(X_test, y_test)}')"
   ]
  },
  {
   "cell_type": "code",
   "execution_count": 77,
   "metadata": {},
   "outputs": [
    {
     "name": "stdout",
     "output_type": "stream",
     "text": [
      "Train: 0.7100326170327242\n",
      "Test: 0.564712698298532\n"
     ]
    }
   ],
   "source": [
    "rf = RandomForestRegressor()\n",
    "\n",
    "rf.fit(X_train, y_train)\n",
    "\n",
    "print(f'Train: {rf.score(X_train, y_train)}')\n",
    "print(f'Test: {rf.score(X_test, y_test)}')"
   ]
  },
  {
   "cell_type": "code",
   "execution_count": 78,
   "metadata": {},
   "outputs": [],
   "source": [
    "dt_params = {\n",
    "    'max_features' : ['auto', 'sqrt', 'log2'], \n",
    "    'splitter' : ['best', 'random'],\n",
    "    'max_depth' : [5,10,50], \n",
    "}\n"
   ]
  },
  {
   "cell_type": "code",
   "execution_count": 79,
   "metadata": {},
   "outputs": [
    {
     "data": {
      "text/plain": [
       "{'max_depth': 50, 'max_features': 'auto', 'splitter': 'best'}"
      ]
     },
     "execution_count": 79,
     "metadata": {},
     "output_type": "execute_result"
    }
   ],
   "source": [
    "dt_grid = GridSearchCV(DecisionTreeRegressor(), param_grid=dt_params)\n",
    "\n",
    "dt_grid.fit(X_train, y_train)\n",
    "\n",
    "dt_grid.best_params_"
   ]
  },
  {
   "cell_type": "code",
   "execution_count": 80,
   "metadata": {},
   "outputs": [
    {
     "name": "stdout",
     "output_type": "stream",
     "text": [
      "Train: 0.7111598069381483\n",
      "Test: 0.5662033437304932\n"
     ]
    }
   ],
   "source": [
    "dt = DecisionTreeRegressor(max_depth= 50,max_features= 'auto',splitter='random')\n",
    "\n",
    "dt.fit(X_train, y_train)\n",
    "\n",
    "print(f'Train: {dt.score(X_train, y_train)}')\n",
    "print(f'Test: {dt.score(X_test, y_test)}')"
   ]
  }
 ],
 "metadata": {
  "interpreter": {
   "hash": "ae86e1e3cf00bcf9d4c41097730d3c58ce0334d6c45261508081dd2e9b348fbe"
  },
  "kernelspec": {
   "display_name": "Python 3.8.5 ('base')",
   "language": "python",
   "name": "python3"
  },
  "language_info": {
   "codemirror_mode": {
    "name": "ipython",
    "version": 3
   },
   "file_extension": ".py",
   "mimetype": "text/x-python",
   "name": "python",
   "nbconvert_exporter": "python",
   "pygments_lexer": "ipython3",
   "version": "3.8.5"
  },
  "orig_nbformat": 4
 },
 "nbformat": 4,
 "nbformat_minor": 2
}
