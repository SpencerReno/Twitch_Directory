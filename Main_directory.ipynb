{
 "cells": [
  {
   "cell_type": "code",
   "execution_count": 3,
   "metadata": {},
   "outputs": [],
   "source": [
    "import requests \n",
    "import pandas as pd\n",
    "import seaborn as sns\n",
    "import numpy as np \n",
    "from datetime import datetime\n",
    "from sqlalchemy import create_engine\n",
    "from keys import *"
   ]
  },
  {
   "cell_type": "code",
   "execution_count": 4,
   "metadata": {},
   "outputs": [],
   "source": [
    "global  bearer, full_directory_lst\n",
    "full_directory_lst = []\n",
    "\n",
    "url = f'https://id.twitch.tv/oauth2/token?client_id={my_client_id}&client_secret={my_client_secret}&grant_type=client_credentials'\n",
    "x = requests.post(url)\n",
    "bearer = x.text[17:47]\n",
    "\n",
    "\n",
    "def get_directory():\n",
    "    url = 'https://api.twitch.tv/helix/games/top'\n",
    "    headers = { \"Client-ID\": f'{my_client_id}','Authorization': f'Bearer {bearer}',  'Accept': \"application/vnd.twitchtv.v5+json\", }\n",
    "    resp = requests.get(url, headers = headers).json()\n",
    "    for game in range(10):\n",
    "        get_directory_viewers(resp['data'][game]['id'], resp['data'][game]['name'])\n"
   ]
  },
  {
   "cell_type": "code",
   "execution_count": 5,
   "metadata": {},
   "outputs": [],
   "source": [
    "def get_directory_viewers(game_id, game_name):\n",
    "    url= f'https://api.twitch.tv/helix/streams?first=100&game_id={game_id}'\n",
    "    headers = { \"Client-ID\": f'{my_client_id}','Authorization': f'Bearer {bearer}',  'Accept': \"application/vnd.twitchtv.v5+json\", }\n",
    "    resp = requests.get(url, headers = headers).json()\n",
    "    pig=resp['pagination']['cursor']\n",
    "\n",
    "    total = 0\n",
    "\n",
    "\n",
    "    while len(resp['data']) > 1:\n",
    "        for x in range(len(resp['data'])):\n",
    "            total += resp['data'][x]['viewer_count']\n",
    "\n",
    "\n",
    "        url= f'https://api.twitch.tv/helix/streams?after={pig}&first=100&game_id={game_id}'\n",
    "        headers = { \"Client-ID\": f'{my_client_id}','Authorization': f'Bearer {bearer}',  'Accept': \"application/vnd.twitchtv.v5+json\", }\n",
    "        resp = requests.get(url, headers = headers).json()\n",
    "        try:\n",
    "            pig=resp['pagination']['cursor']\n",
    "        except:\n",
    "            pig=''\n",
    "    \n",
    "    full_directory_lst.append([game_name, total])\n"
   ]
  },
  {
   "cell_type": "code",
   "execution_count": 6,
   "metadata": {},
   "outputs": [],
   "source": [
    "def make_twitch_df(full_directory_lst):\n",
    "    twitch_df = pd.DataFrame(columns=['Date', 'Time', 'Directory Name', 'Viewer Count'])\n",
    "    \n",
    "    date = str(datetime.now()).split(' ')[0]\n",
    "    time = str(datetime.now()).split(' ')[1].split('.')[0]\n",
    "\n",
    "    for item in full_directory_lst:\n",
    "        twitch_df = twitch_df.append({'Date' : date, 'Time': time, 'Directory Name': item[0], 'Viewer Count' : item[1]},ignore_index=True )\n",
    "    return twitch_df"
   ]
  },
  {
   "cell_type": "code",
   "execution_count": 7,
   "metadata": {},
   "outputs": [],
   "source": [
    "def create_db():\n",
    "    global engine\n",
    "    # create sqlite engine\n",
    "    engine = create_engine('sqlite:///twitch.db', echo=True)\n",
    "    # create connection to engine\n",
    "    conn = engine.connect()\n",
    "\n",
    "    return conn"
   ]
  },
  {
   "cell_type": "code",
   "execution_count": 8,
   "metadata": {},
   "outputs": [],
   "source": [
    "def add_to_db(twitch_df, conn):\n",
    "    sqlite_table = \"Twitch_Directory\"\n",
    "    twitch_df.to_sql(sqlite_table, conn, if_exists='append')\n"
   ]
  },
  {
   "cell_type": "code",
   "execution_count": 9,
   "metadata": {},
   "outputs": [
    {
     "name": "stdout",
     "output_type": "stream",
     "text": [
      "{'data': [{'id': '509658', 'name': 'Just Chatting', 'box_art_url': 'https://static-cdn.jtvnw.net/ttv-boxart/509658-{width}x{height}.jpg'}, {'id': '32982', 'name': 'Grand Theft Auto V', 'box_art_url': 'https://static-cdn.jtvnw.net/ttv-boxart/32982_IGDB-{width}x{height}.jpg'}, {'id': '21779', 'name': 'League of Legends', 'box_art_url': 'https://static-cdn.jtvnw.net/ttv-boxart/21779-{width}x{height}.jpg'}, {'id': '516575', 'name': 'VALORANT', 'box_art_url': 'https://static-cdn.jtvnw.net/ttv-boxart/516575-{width}x{height}.jpg'}, {'id': '33214', 'name': 'Fortnite', 'box_art_url': 'https://static-cdn.jtvnw.net/ttv-boxart/33214-{width}x{height}.jpg'}, {'id': '511224', 'name': 'Apex Legends', 'box_art_url': 'https://static-cdn.jtvnw.net/ttv-boxart/511224-{width}x{height}.jpg'}, {'id': '498983', 'name': 'Holdfast: Nations At War', 'box_art_url': 'https://static-cdn.jtvnw.net/ttv-boxart/498983_IGDB-{width}x{height}.jpg'}, {'id': '498566', 'name': 'Slots', 'box_art_url': 'https://static-cdn.jtvnw.net/ttv-boxart/498566-{width}x{height}.jpg'}, {'id': '512710', 'name': 'Call of Duty: Warzone', 'box_art_url': 'https://static-cdn.jtvnw.net/ttv-boxart/512710-{width}x{height}.jpg'}, {'id': '1833694612', 'name': 'Vampire Survivors', 'box_art_url': 'https://static-cdn.jtvnw.net/ttv-boxart/1833694612_IGDB-{width}x{height}.jpg'}, {'id': '1869092879', 'name': 'FIFA 22', 'box_art_url': 'https://static-cdn.jtvnw.net/ttv-boxart/1869092879_IGDB-{width}x{height}.jpg'}, {'id': '29595', 'name': 'Dota 2', 'box_art_url': 'https://static-cdn.jtvnw.net/ttv-boxart/29595-{width}x{height}.jpg'}, {'id': '32399', 'name': 'Counter-Strike: Global Offensive', 'box_art_url': 'https://static-cdn.jtvnw.net/ttv-boxart/32399_IGDB-{width}x{height}.jpg'}, {'id': '1411398523', 'name': 'Vampire: The Masquerade - Bloodhunt', 'box_art_url': 'https://static-cdn.jtvnw.net/ttv-boxart/1411398523_IGDB-{width}x{height}.jpg'}, {'id': '518203', 'name': 'Sports', 'box_art_url': 'https://static-cdn.jtvnw.net/ttv-boxart/518203-{width}x{height}.jpg'}, {'id': '512953', 'name': 'Elden Ring', 'box_art_url': 'https://static-cdn.jtvnw.net/ttv-boxart/512953_IGDB-{width}x{height}.jpg'}, {'id': '1371363232', 'name': 'NBA 2K22', 'box_art_url': 'https://static-cdn.jtvnw.net/ttv-boxart/1371363232_IGDB-{width}x{height}.jpg'}, {'id': '27471', 'name': 'Minecraft', 'box_art_url': 'https://static-cdn.jtvnw.net/ttv-boxart/27471_IGDB-{width}x{height}.jpg'}, {'id': '491487', 'name': 'Dead by Daylight', 'box_art_url': 'https://static-cdn.jtvnw.net/ttv-boxart/491487-{width}x{height}.jpg'}, {'id': '490393', 'name': 'Motorsport Manager', 'box_art_url': 'https://static-cdn.jtvnw.net/ttv-boxart/490393_IGDB-{width}x{height}.jpg'}], 'pagination': {'cursor': 'eyJzIjoyMCwiZCI6ZmFsc2UsInQiOnRydWV9'}}\n",
      "2022-05-04 18:55:01,384 INFO sqlalchemy.engine.base.Engine SELECT CAST('test plain returns' AS VARCHAR(60)) AS anon_1\n",
      "2022-05-04 18:55:01,385 INFO sqlalchemy.engine.base.Engine ()\n",
      "2022-05-04 18:55:01,387 INFO sqlalchemy.engine.base.Engine SELECT CAST('test unicode returns' AS VARCHAR(60)) AS anon_1\n",
      "2022-05-04 18:55:01,387 INFO sqlalchemy.engine.base.Engine ()\n",
      "2022-05-04 18:55:01,390 INFO sqlalchemy.engine.base.Engine PRAGMA main.table_info(\"Twitch_Directory\")\n",
      "2022-05-04 18:55:01,391 INFO sqlalchemy.engine.base.Engine ()\n",
      "2022-05-04 18:55:01,393 INFO sqlalchemy.engine.base.Engine BEGIN (implicit)\n",
      "2022-05-04 18:55:01,395 INFO sqlalchemy.engine.base.Engine INSERT INTO \"Twitch_Directory\" (\"index\", \"Date\", \"Time\", \"Directory Name\", \"Viewer Count\") VALUES (?, ?, ?, ?, ?)\n",
      "2022-05-04 18:55:01,395 INFO sqlalchemy.engine.base.Engine ((0, '2022-05-04', '18:55:01', 'Just Chatting', 426293), (1, '2022-05-04', '18:55:01', 'Grand Theft Auto V', 252535), (2, '2022-05-04', '18:55:01', 'League of Legends', 154109), (3, '2022-05-04', '18:55:01', 'VALORANT', 108934), (4, '2022-05-04', '18:55:01', 'Fortnite', 102551), (5, '2022-05-04', '18:55:01', 'Apex Legends', 100064), (6, '2022-05-04', '18:55:01', 'Holdfast: Nations At War', 78925), (7, '2022-05-04', '18:55:01', 'Slots', 59498), (8, '2022-05-04', '18:55:01', 'Call of Duty: Warzone', 54684), (9, '2022-05-04', '18:55:01', 'Vampire Survivors', 52299))\n",
      "2022-05-04 18:55:01,398 INFO sqlalchemy.engine.base.Engine COMMIT\n",
      "2022-05-04 18:55:01,477 INFO sqlalchemy.engine.base.Engine SELECT name FROM sqlite_master WHERE type='table' ORDER BY name\n",
      "2022-05-04 18:55:01,478 INFO sqlalchemy.engine.base.Engine ()\n"
     ]
    }
   ],
   "source": [
    "get_directory()\n",
    "twitch_df = make_twitch_df(full_directory_lst)\n",
    "conn = create_db()\n",
    "add_to_db(twitch_df, conn)"
   ]
  },
  {
   "cell_type": "code",
   "execution_count": 10,
   "metadata": {},
   "outputs": [
    {
     "name": "stdout",
     "output_type": "stream",
     "text": [
      "2022-05-04 18:55:01,541 INFO sqlalchemy.engine.base.OptionEngine \n",
      "SELECT *\n",
      "FROM Twitch_Directory\n",
      "\n",
      "2022-05-04 18:55:01,542 INFO sqlalchemy.engine.base.OptionEngine ()\n"
     ]
    },
    {
     "data": {
      "text/html": [
       "<div>\n",
       "<style scoped>\n",
       "    .dataframe tbody tr th:only-of-type {\n",
       "        vertical-align: middle;\n",
       "    }\n",
       "\n",
       "    .dataframe tbody tr th {\n",
       "        vertical-align: top;\n",
       "    }\n",
       "\n",
       "    .dataframe thead th {\n",
       "        text-align: right;\n",
       "    }\n",
       "</style>\n",
       "<table border=\"1\" class=\"dataframe\">\n",
       "  <thead>\n",
       "    <tr style=\"text-align: right;\">\n",
       "      <th></th>\n",
       "      <th>index</th>\n",
       "      <th>Date</th>\n",
       "      <th>Time</th>\n",
       "      <th>Directory Name</th>\n",
       "      <th>Viewer Count</th>\n",
       "    </tr>\n",
       "  </thead>\n",
       "  <tbody>\n",
       "    <tr>\n",
       "      <th>0</th>\n",
       "      <td>0</td>\n",
       "      <td>2022-01-31</td>\n",
       "      <td>10:45:52</td>\n",
       "      <td>Just Chatting</td>\n",
       "      <td>390431</td>\n",
       "    </tr>\n",
       "    <tr>\n",
       "      <th>1</th>\n",
       "      <td>1</td>\n",
       "      <td>2022-01-31</td>\n",
       "      <td>10:45:52</td>\n",
       "      <td>Grand Theft Auto V</td>\n",
       "      <td>239160</td>\n",
       "    </tr>\n",
       "    <tr>\n",
       "      <th>2</th>\n",
       "      <td>2</td>\n",
       "      <td>2022-01-31</td>\n",
       "      <td>10:45:52</td>\n",
       "      <td>League of Legends</td>\n",
       "      <td>219827</td>\n",
       "    </tr>\n",
       "    <tr>\n",
       "      <th>3</th>\n",
       "      <td>3</td>\n",
       "      <td>2022-01-31</td>\n",
       "      <td>10:45:52</td>\n",
       "      <td>VALORANT</td>\n",
       "      <td>137060</td>\n",
       "    </tr>\n",
       "    <tr>\n",
       "      <th>4</th>\n",
       "      <td>4</td>\n",
       "      <td>2022-01-31</td>\n",
       "      <td>10:45:52</td>\n",
       "      <td>Fortnite</td>\n",
       "      <td>115131</td>\n",
       "    </tr>\n",
       "  </tbody>\n",
       "</table>\n",
       "</div>"
      ],
      "text/plain": [
       "   index        Date      Time      Directory Name  Viewer Count\n",
       "0      0  2022-01-31  10:45:52       Just Chatting        390431\n",
       "1      1  2022-01-31  10:45:52  Grand Theft Auto V        239160\n",
       "2      2  2022-01-31  10:45:52   League of Legends        219827\n",
       "3      3  2022-01-31  10:45:52            VALORANT        137060\n",
       "4      4  2022-01-31  10:45:52            Fortnite        115131"
      ]
     },
     "execution_count": 10,
     "metadata": {},
     "output_type": "execute_result"
    }
   ],
   "source": [
    "sql = \"\"\"\n",
    "SELECT *\n",
    "FROM Twitch_Directory\n",
    "\"\"\"\n",
    "# Read the sql query into pandas to view the results\n",
    "df = pd.read_sql_query(sql, engine)\n",
    "df.head()"
   ]
  }
 ],
 "metadata": {
  "interpreter": {
   "hash": "ae86e1e3cf00bcf9d4c41097730d3c58ce0334d6c45261508081dd2e9b348fbe"
  },
  "kernelspec": {
   "display_name": "Python 3",
   "language": "python",
   "name": "python3"
  },
  "language_info": {
   "codemirror_mode": {
    "name": "ipython",
    "version": 3
   },
   "file_extension": ".py",
   "mimetype": "text/x-python",
   "name": "python",
   "nbconvert_exporter": "python",
   "pygments_lexer": "ipython3",
   "version": "3.8.5"
  }
 },
 "nbformat": 4,
 "nbformat_minor": 2
}
