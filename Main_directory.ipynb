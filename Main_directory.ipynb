{
 "cells": [
  {
   "cell_type": "code",
   "execution_count": 15,
   "metadata": {},
   "outputs": [],
   "source": [
    "import requests \n",
    "import pandas as pd\n",
    "import seaborn as sns\n",
    "import numpy as np \n",
    "from datetime import datetime\n",
    "from sqlalchemy import create_engine\n",
    "from keys import *"
   ]
  },
  {
   "cell_type": "code",
   "execution_count": 16,
   "metadata": {},
   "outputs": [],
   "source": [
    "global  bearer, full_directory_lst\n",
    "full_directory_lst = []\n",
    "\n",
    "url = f'https://id.twitch.tv/oauth2/token?client_id={my_client_id}&client_secret={my_client_secret}&grant_type=client_credentials'\n",
    "x = requests.post(url)\n",
    "bearer = x.text[17:47]\n",
    "\n",
    "\n",
    "def get_directory():\n",
    "    url = 'https://api.twitch.tv/helix/games/top'\n",
    "    headers = { \"Client-ID\": f'{my_client_id}','Authorization': f'Bearer {bearer}',  'Accept': \"application/vnd.twitchtv.v5+json\", }\n",
    "    resp = requests.get(url, headers = headers).json()\n",
    "\n",
    "    for game in range(10):\n",
    "        get_directory_viewers(resp['data'][game]['id'], resp['data'][game]['name'])\n"
   ]
  },
  {
   "cell_type": "code",
   "execution_count": 17,
   "metadata": {},
   "outputs": [],
   "source": [
    "def get_directory_viewers(game_id, game_name):\n",
    "    url= f'https://api.twitch.tv/helix/streams?first=100&game_id={game_id}'\n",
    "    headers = { \"Client-ID\": f'{my_client_id}','Authorization': f'Bearer {bearer}',  'Accept': \"application/vnd.twitchtv.v5+json\", }\n",
    "    resp = requests.get(url, headers = headers).json()\n",
    "    pig=resp['pagination']['cursor']\n",
    "\n",
    "    total = 0\n",
    "\n",
    "\n",
    "    while len(resp['data']) > 1:\n",
    "        for x in range(len(resp['data'])):\n",
    "            total += resp['data'][x]['viewer_count']\n",
    "\n",
    "\n",
    "        url= f'https://api.twitch.tv/helix/streams?after={pig}&first=100&game_id={game_id}'\n",
    "        headers = { \"Client-ID\": f'{my_client_id}','Authorization': f'Bearer {bearer}',  'Accept': \"application/vnd.twitchtv.v5+json\", }\n",
    "        resp = requests.get(url, headers = headers).json()\n",
    "        try:\n",
    "            pig=resp['pagination']['cursor']\n",
    "        except:\n",
    "            pig=''\n",
    "    \n",
    "    full_directory_lst.append([game_name, total])\n"
   ]
  },
  {
   "cell_type": "code",
   "execution_count": 18,
   "metadata": {},
   "outputs": [],
   "source": [
    "def make_twitch_df(full_directory_lst):\n",
    "    twitch_df = pd.DataFrame(columns=['Date', 'Time', 'Directory Name', 'Viewer Count'])\n",
    "    \n",
    "    date = str(datetime.now()).split(' ')[0]\n",
    "    time = str(datetime.now()).split(' ')[1].split('.')[0]\n",
    "\n",
    "    for item in full_directory_lst:\n",
    "        twitch_df = twitch_df.append({'Date' : date, 'Time': time, 'Directory Name': item[0], 'Viewer Count' : item[1]},ignore_index=True )\n",
    "    return twitch_df"
   ]
  },
  {
   "cell_type": "code",
   "execution_count": 19,
   "metadata": {},
   "outputs": [],
   "source": [
    "def create_db():\n",
    "    global engine\n",
    "    # create sqlite engine\n",
    "    engine = create_engine('sqlite:///twitch.db', echo=True)\n",
    "    # create connection to engine\n",
    "    conn = engine.connect()\n",
    "\n",
    "    return conn"
   ]
  },
  {
   "cell_type": "code",
   "execution_count": 20,
   "metadata": {},
   "outputs": [],
   "source": [
    "def add_to_db(twitch_df, conn):\n",
    "    sqlite_table = \"Twitch_Directory\"\n",
    "    twitch_df.to_sql(sqlite_table, conn, if_exists='append')\n"
   ]
  },
  {
   "cell_type": "code",
   "execution_count": 21,
   "metadata": {},
   "outputs": [
    {
     "name": "stdout",
     "output_type": "stream",
     "text": [
      "2022-01-31 10:45:52,907 INFO sqlalchemy.engine.base.Engine SELECT CAST('test plain returns' AS VARCHAR(60)) AS anon_1\n",
      "2022-01-31 10:45:52,908 INFO sqlalchemy.engine.base.Engine ()\n",
      "2022-01-31 10:45:52,909 INFO sqlalchemy.engine.base.Engine SELECT CAST('test unicode returns' AS VARCHAR(60)) AS anon_1\n",
      "2022-01-31 10:45:52,909 INFO sqlalchemy.engine.base.Engine ()\n",
      "2022-01-31 10:45:52,911 INFO sqlalchemy.engine.base.Engine PRAGMA main.table_info(\"Twitch_Directory\")\n",
      "2022-01-31 10:45:52,912 INFO sqlalchemy.engine.base.Engine ()\n",
      "2022-01-31 10:45:52,913 INFO sqlalchemy.engine.base.Engine PRAGMA temp.table_info(\"Twitch_Directory\")\n",
      "2022-01-31 10:45:52,913 INFO sqlalchemy.engine.base.Engine ()\n",
      "2022-01-31 10:45:52,914 INFO sqlalchemy.engine.base.Engine \n",
      "CREATE TABLE \"Twitch_Directory\" (\n",
      "\t\"index\" BIGINT, \n",
      "\t\"Date\" TEXT, \n",
      "\t\"Time\" TEXT, \n",
      "\t\"Directory Name\" TEXT, \n",
      "\t\"Viewer Count\" BIGINT\n",
      ")\n",
      "\n",
      "\n",
      "2022-01-31 10:45:52,915 INFO sqlalchemy.engine.base.Engine ()\n",
      "2022-01-31 10:45:53,025 INFO sqlalchemy.engine.base.Engine COMMIT\n",
      "2022-01-31 10:45:53,026 INFO sqlalchemy.engine.base.Engine CREATE INDEX \"ix_Twitch_Directory_index\" ON \"Twitch_Directory\" (\"index\")\n",
      "2022-01-31 10:45:53,027 INFO sqlalchemy.engine.base.Engine ()\n",
      "2022-01-31 10:45:53,107 INFO sqlalchemy.engine.base.Engine COMMIT\n",
      "2022-01-31 10:45:53,108 INFO sqlalchemy.engine.base.Engine BEGIN (implicit)\n",
      "2022-01-31 10:45:53,110 INFO sqlalchemy.engine.base.Engine INSERT INTO \"Twitch_Directory\" (\"index\", \"Date\", \"Time\", \"Directory Name\", \"Viewer Count\") VALUES (?, ?, ?, ?, ?)\n",
      "2022-01-31 10:45:53,110 INFO sqlalchemy.engine.base.Engine ((0, '2022-01-31', '10:45:52', 'Just Chatting', 390431), (1, '2022-01-31', '10:45:52', 'Grand Theft Auto V', 239160), (2, '2022-01-31', '10:45:52', 'League of Legends', 219827), (3, '2022-01-31', '10:45:52', 'VALORANT', 137060), (4, '2022-01-31', '10:45:52', 'Fortnite', 115131), (5, '2022-01-31', '10:45:52', 'Pokémon Legends: Arceus', 109586), (6, '2022-01-31', '10:45:52', 'Counter-Strike: Global Offensive', 103361), (7, '2022-01-31', '10:45:52', 'FIFA 22', 88984), (8, '2022-01-31', '10:45:52', 'Sports', 82601), (9, '2022-01-31', '10:45:52', 'Apex Legends', 79430))\n",
      "2022-01-31 10:45:53,113 INFO sqlalchemy.engine.base.Engine COMMIT\n",
      "2022-01-31 10:45:53,233 INFO sqlalchemy.engine.base.Engine SELECT name FROM sqlite_master WHERE type='table' ORDER BY name\n",
      "2022-01-31 10:45:53,234 INFO sqlalchemy.engine.base.Engine ()\n"
     ]
    }
   ],
   "source": [
    "get_directory()\n",
    "twitch_df = make_twitch_df(full_directory_lst)\n",
    "conn = create_db()\n",
    "add_to_db(twitch_df, conn)"
   ]
  },
  {
   "cell_type": "code",
   "execution_count": 22,
   "metadata": {},
   "outputs": [
    {
     "name": "stdout",
     "output_type": "stream",
     "text": [
      "2022-01-31 10:45:53,271 INFO sqlalchemy.engine.base.OptionEngine \n",
      "SELECT *\n",
      "FROM Twitch_Directory\n",
      "\n",
      "2022-01-31 10:45:53,272 INFO sqlalchemy.engine.base.OptionEngine ()\n"
     ]
    },
    {
     "data": {
      "text/html": [
       "<div>\n",
       "<style scoped>\n",
       "    .dataframe tbody tr th:only-of-type {\n",
       "        vertical-align: middle;\n",
       "    }\n",
       "\n",
       "    .dataframe tbody tr th {\n",
       "        vertical-align: top;\n",
       "    }\n",
       "\n",
       "    .dataframe thead th {\n",
       "        text-align: right;\n",
       "    }\n",
       "</style>\n",
       "<table border=\"1\" class=\"dataframe\">\n",
       "  <thead>\n",
       "    <tr style=\"text-align: right;\">\n",
       "      <th></th>\n",
       "      <th>index</th>\n",
       "      <th>Date</th>\n",
       "      <th>Time</th>\n",
       "      <th>Directory Name</th>\n",
       "      <th>Viewer Count</th>\n",
       "    </tr>\n",
       "  </thead>\n",
       "  <tbody>\n",
       "    <tr>\n",
       "      <th>0</th>\n",
       "      <td>0</td>\n",
       "      <td>2022-01-31</td>\n",
       "      <td>10:45:52</td>\n",
       "      <td>Just Chatting</td>\n",
       "      <td>390431</td>\n",
       "    </tr>\n",
       "    <tr>\n",
       "      <th>1</th>\n",
       "      <td>1</td>\n",
       "      <td>2022-01-31</td>\n",
       "      <td>10:45:52</td>\n",
       "      <td>Grand Theft Auto V</td>\n",
       "      <td>239160</td>\n",
       "    </tr>\n",
       "    <tr>\n",
       "      <th>2</th>\n",
       "      <td>2</td>\n",
       "      <td>2022-01-31</td>\n",
       "      <td>10:45:52</td>\n",
       "      <td>League of Legends</td>\n",
       "      <td>219827</td>\n",
       "    </tr>\n",
       "    <tr>\n",
       "      <th>3</th>\n",
       "      <td>3</td>\n",
       "      <td>2022-01-31</td>\n",
       "      <td>10:45:52</td>\n",
       "      <td>VALORANT</td>\n",
       "      <td>137060</td>\n",
       "    </tr>\n",
       "    <tr>\n",
       "      <th>4</th>\n",
       "      <td>4</td>\n",
       "      <td>2022-01-31</td>\n",
       "      <td>10:45:52</td>\n",
       "      <td>Fortnite</td>\n",
       "      <td>115131</td>\n",
       "    </tr>\n",
       "  </tbody>\n",
       "</table>\n",
       "</div>"
      ],
      "text/plain": [
       "   index        Date      Time      Directory Name  Viewer Count\n",
       "0      0  2022-01-31  10:45:52       Just Chatting        390431\n",
       "1      1  2022-01-31  10:45:52  Grand Theft Auto V        239160\n",
       "2      2  2022-01-31  10:45:52   League of Legends        219827\n",
       "3      3  2022-01-31  10:45:52            VALORANT        137060\n",
       "4      4  2022-01-31  10:45:52            Fortnite        115131"
      ]
     },
     "execution_count": 22,
     "metadata": {},
     "output_type": "execute_result"
    }
   ],
   "source": [
    "sql = \"\"\"\n",
    "SELECT *\n",
    "FROM Twitch_Directory\n",
    "\"\"\"\n",
    "# Read the sql query into pandas to view the results\n",
    "df = pd.read_sql_query(sql, engine)\n",
    "df.head()"
   ]
  },
  {
   "cell_type": "code",
   "execution_count": null,
   "metadata": {},
   "outputs": [],
   "source": []
  }
 ],
 "metadata": {
  "interpreter": {
   "hash": "ae86e1e3cf00bcf9d4c41097730d3c58ce0334d6c45261508081dd2e9b348fbe"
  },
  "kernelspec": {
   "display_name": "Python 3.8.5 64-bit ('base': conda)",
   "language": "python",
   "name": "python3"
  },
  "language_info": {
   "codemirror_mode": {
    "name": "ipython",
    "version": 3
   },
   "file_extension": ".py",
   "mimetype": "text/x-python",
   "name": "python",
   "nbconvert_exporter": "python",
   "pygments_lexer": "ipython3",
   "version": "3.8.5"
  },
  "orig_nbformat": 4
 },
 "nbformat": 4,
 "nbformat_minor": 2
}
